{
 "cells": [
  {
   "cell_type": "code",
   "execution_count": 2,
   "id": "67ebbd38",
   "metadata": {},
   "outputs": [
    {
     "name": "stdout",
     "output_type": "stream",
     "text": [
      "The tensorboard extension is already loaded. To reload it, use:\n",
      "  %reload_ext tensorboard\n"
     ]
    }
   ],
   "source": [
    "%load_ext tensorboard\n",
    "import numpy as np\n",
    "import pandas as pd\n",
    "import datetime\n",
    "from sklearn.feature_extraction.text import TfidfVectorizer\n",
    "from sklearn.model_selection import StratifiedKFold\n",
    "from sklearn.metrics import f1_score\n",
    "from sklearn import preprocessing\n",
    "from gensim.models import Word2Vec\n",
    "from tensorflow.keras.preprocessing import text, sequence\n",
    "from tensorflow.keras.utils import to_categorical\n",
    "from tensorflow.keras.models import *\n",
    "from tensorflow.keras.layers import *\n",
    "from tensorflow.keras.callbacks import *\n",
    "from tensorflow.keras.optimizers import *\n",
    "import tensorflow as tf\n",
    "#import tensorflow_addons as tfa\n",
    "import warnings\n",
    "import os\n",
    "\n",
    "warnings.filterwarnings('ignore')"
   ]
  },
  {
   "cell_type": "code",
   "execution_count": 9,
   "id": "c5b6b55b",
   "metadata": {},
   "outputs": [
    {
     "name": "stdout",
     "output_type": "stream",
     "text": [
      "2.3.0\n"
     ]
    },
    {
     "data": {
      "text/plain": [
       "(None, [])"
      ]
     },
     "execution_count": 9,
     "metadata": {},
     "output_type": "execute_result"
    }
   ],
   "source": [
    "print(tf.__version__)"
   ]
  },
  {
   "cell_type": "markdown",
   "id": "1ad8124d",
   "metadata": {},
   "source": [
    "# 1 读取数据"
   ]
  },
  {
   "cell_type": "code",
   "execution_count": 3,
   "id": "0d2290b2",
   "metadata": {},
   "outputs": [],
   "source": [
    "train = pd.read_csv('./train_set.txt')\n",
    "test = pd.read_csv('./test_set.txt')\n",
    "test_true = pd.read_csv('./test_true.txt')\n",
    "data = pd.concat([train,test])"
   ]
  },
  {
   "cell_type": "code",
   "execution_count": 4,
   "id": "08b366f2",
   "metadata": {},
   "outputs": [],
   "source": [
    "data['tagid']=data['tagid'].fillna('[0]')\n",
    "data['time']=data['time'].fillna('[0]')\n",
    "for col in [x for x in data.columns if x not in ['label']]:\n",
    "    data[col] = data[col].fillna(-1)\n",
    "    data[col] = data[col].astype('str')\n",
    "data['tagid'] = data['tagid'].apply(lambda x:eval(x))\n",
    "data['time'] = data['time'].apply(lambda x: eval(x)) # str -> list\n",
    "data['tagid'] = data['tagid'].apply(lambda x:[str(i) for i in x])"
   ]
  },
  {
   "cell_type": "markdown",
   "id": "32122e94",
   "metadata": {},
   "source": [
    "# 2 特征处理：处理序列化数据"
   ]
  },
  {
   "cell_type": "code",
   "execution_count": 10,
   "id": "8d0e9a24",
   "metadata": {},
   "outputs": [
    {
     "name": "stdout",
     "output_type": "stream",
     "text": [
      "Total 204298 word vectors.\n"
     ]
    }
   ],
   "source": [
    "embed_size = 100\n",
    "MAX_NB_WORDS = 224254 \n",
    "MAX_SEQUENCE_LENGTH = 128\n",
    "# 训练word2vec，这里可以考虑elmo，bert等预训练\n",
    "w2v_model = Word2Vec(sentences=data['tagid'].tolist(), vector_size=embed_size, window=5, min_count=1,epochs=10)\n",
    "\n",
    "# 这里是划分训练集和测试数据\n",
    "X_train = data[:train.shape[0]]['tagid']\n",
    "X_test = data[train.shape[0]:]['tagid']\n",
    "# 创建词典，利用了tf.keras的API，其实就是编码一下，具体可以看看API的使用方法\n",
    "tokenizer = text.Tokenizer(num_words=MAX_NB_WORDS)\n",
    "tokenizer.fit_on_texts(list(X_train) + list(X_test))\n",
    "X_train = tokenizer.texts_to_sequences(X_train)\n",
    "X_test = tokenizer.texts_to_sequences(X_test)\n",
    "X_train = sequence.pad_sequences(X_train, maxlen=MAX_SEQUENCE_LENGTH)\n",
    "X_test = sequence.pad_sequences(X_test, maxlen=MAX_SEQUENCE_LENGTH)\n",
    "word_index = tokenizer.word_index\n",
    "# 计算一共出现了多少个单词，其实MAX_NB_WORDS我直接就用了这个数据\n",
    "nb_words = len(word_index) + 1\n",
    "print('Total %s word vectors.' % nb_words)\n",
    "\n",
    "# 构建一个embedding的矩阵，之后输入到模型使用\n",
    "embedding_matrix = np.zeros((nb_words, embed_size))\n",
    "for word, i in word_index.items():\n",
    "    try:\n",
    "        embedding_vector = w2v_model.wv.get_vector(word)\n",
    "    except KeyError:\n",
    "        continue\n",
    "    if embedding_vector is not None:\n",
    "        embedding_matrix[i] = embedding_vector\n",
    "\n",
    "y_categorical = train['label'].values"
   ]
  },
  {
   "cell_type": "markdown",
   "id": "20060c8e",
   "metadata": {},
   "source": [
    "# 3 模型：lstm"
   ]
  },
  {
   "cell_type": "code",
   "execution_count": 11,
   "id": "97b9866c",
   "metadata": {},
   "outputs": [],
   "source": [
    "def my_model():\n",
    "    embedding_input = Input(shape=(MAX_SEQUENCE_LENGTH,), dtype='int32')\n",
    "    # 词嵌入（使用预训练的词向量）\n",
    "    embedder = Embedding(nb_words,\n",
    "                         embed_size,\n",
    "                         input_length=MAX_SEQUENCE_LENGTH,\n",
    "                         weights=[embedding_matrix],\n",
    "                         trainable=False\n",
    "                         )\n",
    "    embed = embedder(embedding_input)\n",
    "    l = LSTM(128)(embed)\n",
    "    flat = BatchNormalization()(l)\n",
    "    drop = Dropout(0.2)(flat)\n",
    "    main_output = Dense(1, activation='sigmoid')(drop)\n",
    "    model = Model(inputs=embedding_input, outputs=main_output)\n",
    "    model.compile(loss=tf.keras.losses.BinaryCrossentropy(), optimizer='adam', metrics=['accuracy'])\n",
    "    return model"
   ]
  },
  {
   "cell_type": "markdown",
   "id": "65e0292a",
   "metadata": {},
   "source": [
    "# 4 预测"
   ]
  },
  {
   "cell_type": "code",
   "execution_count": null,
   "id": "dd448da7",
   "metadata": {},
   "outputs": [
    {
     "name": "stdout",
     "output_type": "stream",
     "text": [
      "fold n1\n",
      "Model: \"functional_3\"\n",
      "_________________________________________________________________\n",
      "Layer (type)                 Output Shape              Param #   \n",
      "=================================================================\n",
      "input_2 (InputLayer)         [(None, 128)]             0         \n",
      "_________________________________________________________________\n",
      "embedding_1 (Embedding)      (None, 128, 100)          20429800  \n",
      "_________________________________________________________________\n",
      "lstm_1 (LSTM)                (None, 128)               117248    \n",
      "_________________________________________________________________\n",
      "batch_normalization_1 (Batch (None, 128)               512       \n",
      "_________________________________________________________________\n",
      "dropout_1 (Dropout)          (None, 128)               0         \n",
      "_________________________________________________________________\n",
      "dense_1 (Dense)              (None, 1)                 129       \n",
      "=================================================================\n",
      "Total params: 20,547,689\n",
      "Trainable params: 117,633\n",
      "Non-trainable params: 20,430,056\n",
      "_________________________________________________________________\n",
      "Epoch 1/128\n",
      "938/938 [==============================] - 205s 219ms/step - loss: 0.5592 - accuracy: 0.7411 - val_loss: 0.5239 - val_accuracy: 0.7621\n",
      "Epoch 2/128\n",
      "938/938 [==============================] - 205s 219ms/step - loss: 0.5184 - accuracy: 0.7630 - val_loss: 0.5166 - val_accuracy: 0.7629\n",
      "Epoch 3/128\n",
      "938/938 [==============================] - 209s 222ms/step - loss: 0.5122 - accuracy: 0.7645 - val_loss: 0.5155 - val_accuracy: 0.7632\n",
      "Epoch 4/128\n",
      "938/938 [==============================] - 218s 233ms/step - loss: 0.5081 - accuracy: 0.7653 - val_loss: 0.5160 - val_accuracy: 0.7652\n",
      "Epoch 5/128\n",
      "938/938 [==============================] - 218s 232ms/step - loss: 0.5020 - accuracy: 0.7678 - val_loss: 0.5072 - val_accuracy: 0.7670\n",
      "Epoch 6/128\n",
      "938/938 [==============================] - 218s 232ms/step - loss: 0.4929 - accuracy: 0.7701 - val_loss: 0.4981 - val_accuracy: 0.7681\n",
      "Epoch 7/128\n",
      "938/938 [==============================] - 220s 234ms/step - loss: 0.4768 - accuracy: 0.7784 - val_loss: 0.4826 - val_accuracy: 0.7783\n",
      "Epoch 8/128\n",
      "938/938 [==============================] - 216s 231ms/step - loss: 0.4609 - accuracy: 0.7862 - val_loss: 0.4774 - val_accuracy: 0.7821\n",
      "Epoch 9/128\n",
      "938/938 [==============================] - 215s 229ms/step - loss: 0.4466 - accuracy: 0.7936 - val_loss: 0.4744 - val_accuracy: 0.7830\n",
      "Epoch 10/128\n",
      "938/938 [==============================] - 215s 229ms/step - loss: 0.4304 - accuracy: 0.8013 - val_loss: 0.4694 - val_accuracy: 0.7859\n",
      "Epoch 11/128\n",
      "938/938 [==============================] - 214s 229ms/step - loss: 0.4143 - accuracy: 0.8098 - val_loss: 0.4572 - val_accuracy: 0.7926\n",
      "Epoch 12/128\n",
      "938/938 [==============================] - 216s 230ms/step - loss: 0.3970 - accuracy: 0.8187 - val_loss: 0.4545 - val_accuracy: 0.7914\n",
      "Epoch 13/128\n",
      "938/938 [==============================] - 216s 231ms/step - loss: 0.3813 - accuracy: 0.8261 - val_loss: 0.4905 - val_accuracy: 0.7965\n",
      "Epoch 14/128\n",
      "938/938 [==============================] - 216s 230ms/step - loss: 0.3668 - accuracy: 0.8332 - val_loss: 0.4537 - val_accuracy: 0.7952\n",
      "Epoch 15/128\n",
      "938/938 [==============================] - 215s 230ms/step - loss: 0.3530 - accuracy: 0.8391 - val_loss: 0.4610 - val_accuracy: 0.7852\n",
      "Epoch 16/128\n",
      "318/938 [=========>....................] - ETA: 2:09 - loss: 0.3339 - accuracy: 0.8494"
     ]
    }
   ],
   "source": [
    "#import tensorflow_addons as tfa\n",
    "folds = StratifiedKFold(n_splits=5, shuffle=True, random_state=2019)\n",
    "validations = np.zeros([len(train), 1])\n",
    "predictions = np.zeros([len(test), 1])\n",
    "\n",
    "for fold_, (trn_idx, val_idx) in enumerate(folds.split(train, train['label'])):\n",
    "    print(\"fold n{}\".format(fold_ + 1))\n",
    "    model = my_model()\n",
    "    if fold_ == 0:\n",
    "        model.summary()\n",
    "\n",
    "    X_tra, X_val = X_train[trn_idx], X_train[val_idx]\n",
    "    y_tra, y_val = y_categorical[trn_idx], y_categorical[val_idx]\n",
    "    \n",
    "    early_stopping = EarlyStopping(monitor='val_accuracy', patience=5)\n",
    "    bst_model_path = \"./{}.h10\".format(fold_)\n",
    "    model_checkpoint = ModelCheckpoint(bst_model_path, save_best_only=True, save_weights_only=True)\n",
    "    model.fit(X_tra, y_tra,\n",
    "              validation_data=(X_val, y_val),\n",
    "              epochs=128, batch_size=256, shuffle=True,\n",
    "              callbacks=[early_stopping, model_checkpoint])\n",
    "    model.load_weights(bst_model_path)\n",
    "\n",
    "    validations[val_idx] = model.predict(X_val)\n",
    "    predictions += model.predict(X_test) / folds.n_splits\n",
    "    del model"
   ]
  },
  {
   "cell_type": "markdown",
   "id": "0b94a284",
   "metadata": {},
   "source": [
    "# 5 评估"
   ]
  },
  {
   "cell_type": "code",
   "execution_count": null,
   "id": "07f74d77",
   "metadata": {},
   "outputs": [],
   "source": [
    "#训练集的f1\n",
    "train['predict'] = validations\n",
    "train['rank'] = train['predict'].rank()\n",
    "train['p'] = 1\n",
    "train.loc[train['rank'] <= train.shape[0] * 0.5, 'p'] = 0\n",
    "\n",
    "bst_f1_tmp = f1_score(train['label'].values, train['p'].values)\n",
    "print('train f1 score:',bst_f1_tmp)\n",
    "\n",
    "#测试集f1\n",
    "submit = test[['pid']]\n",
    "submit['tmp'] = predictions\n",
    "submit.columns = ['user_id', 'tmp']\n",
    "submit['rank'] = submit['tmp'].rank()\n",
    "submit['category_id'] = 1\n",
    "submit.loc[submit['rank'] <= int(submit.shape[0] * 0.5), 'category_id'] = 0\n",
    "\n",
    "bst_f1_test = f1_score(test_true['label'].values, submit['category_id'].values)\n",
    "print('test f1 score:', bst_f1_test)\n",
    "\n",
    "#submit[['user_id', 'category_id']].to_csv('sorted_lstm_{}.csv'.format(str(bst_f1_tmp).split('.')[1]), index=False)"
   ]
  }
 ],
 "metadata": {
  "kernelspec": {
   "display_name": "Python 3 (ipykernel)",
   "language": "python",
   "name": "python3"
  },
  "language_info": {
   "codemirror_mode": {
    "name": "ipython",
    "version": 3
   },
   "file_extension": ".py",
   "mimetype": "text/x-python",
   "name": "python",
   "nbconvert_exporter": "python",
   "pygments_lexer": "ipython3",
   "version": "3.7.11"
  }
 },
 "nbformat": 4,
 "nbformat_minor": 5
}
